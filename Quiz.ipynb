{
 "cells": [
  {
   "cell_type": "code",
   "execution_count": 3,
   "id": "94918302",
   "metadata": {},
   "outputs": [
    {
     "name": "stdout",
     "output_type": "stream",
     "text": [
      "Welcome to Quiz Mania\n",
      "Do you want to play? yes\n",
      "Let's Start the Quiz\n",
      "What does CPU stand for? CENTRAL PROCESSING UNIT\n",
      " Correct \n",
      "What does RAM stand for? Random Access Memory\n",
      " Correct \n",
      "You have 2 Answers correct\n",
      "Your percentage is  100.0%\n"
     ]
    }
   ],
   "source": [
    "class quiz():\n",
    "    print(\"Welcome to Quiz Mania\")\n",
    "    score = 0\n",
    "    playing = input(\"Do you want to play? \")\n",
    "    if playing.lower() != \"yes\":\n",
    "        print(\"Okay\")\n",
    "    else:\n",
    "        print(\"Let's Start the Quiz\")\n",
    "        \n",
    "        answer = input(\"What does CPU stand for? \")\n",
    "        if answer.lower() == \"central processing unit\":\n",
    "            print(\" Correct \")\n",
    "            score+=1\n",
    "        else:\n",
    "            print(\" Incorrect \")\n",
    "\n",
    "        answer = input(\"What does RAM stand for? \")\n",
    "        if answer.lower() == \"random access memory\":\n",
    "            print(\" Correct \")\n",
    "            score+=1\n",
    "        else:\n",
    "            print(\" Incorrect \")\n",
    "\n",
    "        print(\"You have \" + str(score)+ \" Answers correct\")\n",
    "        print(\"Your percentage is  \"+str((score/2)*100)+\"%\")\n"
   ]
  },
  {
   "cell_type": "code",
   "execution_count": null,
   "id": "dec173b6",
   "metadata": {},
   "outputs": [],
   "source": []
  }
 ],
 "metadata": {
  "kernelspec": {
   "display_name": "Python 3 (ipykernel)",
   "language": "python",
   "name": "python3"
  },
  "language_info": {
   "codemirror_mode": {
    "name": "ipython",
    "version": 3
   },
   "file_extension": ".py",
   "mimetype": "text/x-python",
   "name": "python",
   "nbconvert_exporter": "python",
   "pygments_lexer": "ipython3",
   "version": "3.10.0"
  }
 },
 "nbformat": 4,
 "nbformat_minor": 5
}
