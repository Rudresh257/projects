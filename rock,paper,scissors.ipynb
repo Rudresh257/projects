{
 "cells": [
  {
   "cell_type": "code",
   "execution_count": 2,
   "id": "7080e439",
   "metadata": {},
   "outputs": [
    {
     "name": "stdout",
     "output_type": "stream",
     "text": [
      "Type Rock/paper/Scissors or Q to quitpaper\n",
      "Computer picked paper.\n",
      "You lost\n",
      "Type Rock/paper/Scissors or Q to quitrOck\n",
      "Computer picked rock.\n",
      "You lost\n",
      "Type Rock/paper/Scissors or Q to quitROCK\n",
      "Computer picked scissors.\n",
      "You won!\n",
      "Type Rock/paper/Scissors or Q to quitQ\n",
      "You won 1 times.\n",
      "The computer won 2 times.\n"
     ]
    }
   ],
   "source": [
    "import random\n",
    "\n",
    "user_wins = 0\n",
    "computer_wins = 0\n",
    "\n",
    "options = [\"rock\",\"paper\",\"scissors\"]\n",
    "\n",
    "while True:\n",
    "    user_input = input(\"Type Rock/paper/Scissors or Q to quit\").lower()\n",
    "    if user_input == \"q\":\n",
    "        break\n",
    "        \n",
    "    if user_input not in options:\n",
    "        continue\n",
    "        \n",
    "    random_number = random.randint(0,2)\n",
    "    computer_pick = options[random_number]\n",
    "    print(\"Computer picked\",computer_pick+\".\")\n",
    "    \n",
    "    if user_input == \"rock\" and computer_pick == \"scissors\":\n",
    "        print(\"You won!\")\n",
    "        user_wins+=1\n",
    "    elif user_input == \"paper\" and computer_pick == \"rock\":\n",
    "        print(\"You won!\")\n",
    "        user_wins+=1\n",
    "    elif user_input == \"scissors\" and computer_pick == \"paper\":\n",
    "        print(\"You won!\")\n",
    "        user_wins+=1\n",
    "        \n",
    "    else:\n",
    "        print(\"You lost\")\n",
    "        computer_wins+=1\n",
    "        \n",
    "print(\"You won\",user_wins,\"times.\")\n",
    "print(\"The computer won\",computer_wins,\"times.\")"
   ]
  },
  {
   "cell_type": "code",
   "execution_count": null,
   "id": "0be80235",
   "metadata": {},
   "outputs": [],
   "source": []
  }
 ],
 "metadata": {
  "kernelspec": {
   "display_name": "Python 3 (ipykernel)",
   "language": "python",
   "name": "python3"
  },
  "language_info": {
   "codemirror_mode": {
    "name": "ipython",
    "version": 3
   },
   "file_extension": ".py",
   "mimetype": "text/x-python",
   "name": "python",
   "nbconvert_exporter": "python",
   "pygments_lexer": "ipython3",
   "version": "3.10.0"
  }
 },
 "nbformat": 4,
 "nbformat_minor": 5
}
